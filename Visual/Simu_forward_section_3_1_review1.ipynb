{
 "cells": [
  {
   "cell_type": "code",
   "execution_count": 18,
   "id": "70dc4207",
   "metadata": {},
   "outputs": [
    {
     "name": "stderr",
     "output_type": "stream",
     "text": [
      "/home/liangaoming/miniconda3/lib/python3.13/site-packages/tqdm/auto.py:21: TqdmWarning: IProgress not found. Please update jupyter and ipywidgets. See https://ipywidgets.readthedocs.io/en/stable/user_install.html\n",
      "  from .autonotebook import tqdm as notebook_tqdm\n"
     ]
    },
    {
     "name": "stdout",
     "output_type": "stream",
     "text": [
      "Using device: cuda\n"
     ]
    }
   ],
   "source": [
    "import pandas as pd\n",
    "from Models.GAT_Transformer import TransformerDecoder"
   ]
  },
  {
   "cell_type": "code",
   "execution_count": 19,
   "id": "d7666ad0",
   "metadata": {},
   "outputs": [],
   "source": [
    "import os\n",
    "import sys"
   ]
  },
  {
   "cell_type": "code",
   "execution_count": 20,
   "id": "8a42894c",
   "metadata": {},
   "outputs": [
    {
     "name": "stdout",
     "output_type": "stream",
     "text": [
      "Import path: /home/liangaoming/dashuai/gust_test-main\n",
      "Import path: /home/liangaoming/miniconda3/lib/python313.zip\n",
      "Import path: /home/liangaoming/miniconda3/lib/python3.13\n",
      "Import path: /home/liangaoming/miniconda3/lib/python3.13/lib-dynload\n",
      "Import path: \n",
      "Import path: /home/liangaoming/.local/lib/python3.13/site-packages\n",
      "Import path: /home/liangaoming/miniconda3/lib/python3.13/site-packages\n",
      "Import path: /home/liangaoming/dashuai/gust_test-main/Models\n",
      "Import path: /tmp/tmpj41v4xk7\n"
     ]
    }
   ],
   "source": [
    "directory_path = os.path.dirname(os.getcwd())\n",
    "# Optionally, print all paths to confirm the addition\n",
    "for path in sys.path:\n",
    "    print(\"Import path:\", path)"
   ]
  },
  {
   "cell_type": "code",
   "execution_count": 21,
   "id": "7a29826d",
   "metadata": {},
   "outputs": [],
   "source": [
    "sys.path.insert(0, \"/home/liangaoming/dashuai/gust_test-main\") #please add your path case by case linux or wins\n",
    "# 添加 Models 文件夹路径到 sys.path\n",
    "sys.path.append('/home/liangaoming/dashuai/gust_test-main/Models')"
   ]
  },
  {
   "cell_type": "code",
   "execution_count": 23,
   "id": "a9c0c832",
   "metadata": {},
   "outputs": [
    {
     "data": {
      "text/plain": [
       "TransformerDecoder(\n",
       "  (embedding): Linear(in_features=9, out_features=20, bias=True)\n",
       "  (layers): ModuleList(\n",
       "    (0-3): 4 x TransformerDecoderLayer(\n",
       "      (self_attn): MultiheadAttention(\n",
       "        (out_proj): NonDynamicallyQuantizableLinear(in_features=20, out_features=20, bias=True)\n",
       "      )\n",
       "      (norm1): LayerNorm((20,), eps=1e-05, elementwise_affine=True)\n",
       "      (graph_attn): GraphAttentionLayer(\n",
       "        (gat): GATConv(20, 5, heads=4)\n",
       "      )\n",
       "      (norm2): LayerNorm((20,), eps=1e-05, elementwise_affine=True)\n",
       "      (ffn): Sequential(\n",
       "        (0): Linear(in_features=21, out_features=80, bias=True)\n",
       "        (1): ReLU()\n",
       "        (2): Linear(in_features=80, out_features=20, bias=True)\n",
       "      )\n",
       "      (norm3): LayerNorm((20,), eps=1e-05, elementwise_affine=True)\n",
       "    )\n",
       "  )\n",
       "  (output_layer): Linear(in_features=20, out_features=1, bias=True)\n",
       ")"
      ]
     },
     "execution_count": 23,
     "metadata": {},
     "output_type": "execute_result"
    }
   ],
   "source": [
    "\n",
    "yaml_path = \"/home/liangaoming/dashuai/gust_test-main/Checkpoints/simu2d_forward/config.yaml\"\n",
    "import yaml\n",
    "# 打开并读取 YAML 文件\n",
    "with open(yaml_path, 'r') as file:\n",
    "    set_dict = yaml.safe_load(file)\n",
    "model_path = \"/home/liangaoming/dashuai/gust_test-main/Checkpoints/simu2d_forward/best_model.pth\"\n",
    "model = TransformerDecoder(**set_dict[\"Model\"][\"details\"])\n",
    "paras = torch.load(model_path)\n",
    "model.load_state_dict(paras)\n",
    "# 切换到评估模式\n",
    "model.eval()"
   ]
  },
  {
   "cell_type": "code",
   "execution_count": 24,
   "id": "4afec4f1",
   "metadata": {},
   "outputs": [],
   "source": [
    "dataset_csv = \"/home/liangaoming/dashuai/gust_test-main/Dataset/Simulations/naca0012_gust_209.csv\""
   ]
  },
  {
   "cell_type": "code",
   "execution_count": 25,
   "id": "23804de4",
   "metadata": {},
   "outputs": [],
   "source": [
    "read = pd.read_csv(f\"{dataset_csv}\")"
   ]
  },
  {
   "cell_type": "code",
   "execution_count": 26,
   "id": "31d9e507",
   "metadata": {},
   "outputs": [
    {
     "data": {
      "text/html": [
       "<div>\n",
       "<style scoped>\n",
       "    .dataframe tbody tr th:only-of-type {\n",
       "        vertical-align: middle;\n",
       "    }\n",
       "\n",
       "    .dataframe tbody tr th {\n",
       "        vertical-align: top;\n",
       "    }\n",
       "\n",
       "    .dataframe thead th {\n",
       "        text-align: right;\n",
       "    }\n",
       "</style>\n",
       "<table border=\"1\" class=\"dataframe\">\n",
       "  <thead>\n",
       "    <tr style=\"text-align: right;\">\n",
       "      <th></th>\n",
       "      <th>Case</th>\n",
       "      <th>CL</th>\n",
       "      <th>CD</th>\n",
       "      <th>Cp_1</th>\n",
       "      <th>Cp_2</th>\n",
       "      <th>Cp_3</th>\n",
       "      <th>Cp_4</th>\n",
       "      <th>Cp_5</th>\n",
       "      <th>Cp_6</th>\n",
       "      <th>Cp_7</th>\n",
       "      <th>Cp_8</th>\n",
       "      <th>Cp_9</th>\n",
       "    </tr>\n",
       "  </thead>\n",
       "  <tbody>\n",
       "    <tr>\n",
       "      <th>0</th>\n",
       "      <td>AOA_-6_GUST_0</td>\n",
       "      <td>0.000000</td>\n",
       "      <td>0.000000</td>\n",
       "      <td>0.000000</td>\n",
       "      <td>0.000000</td>\n",
       "      <td>0.000000</td>\n",
       "      <td>0.000000</td>\n",
       "      <td>0.000000</td>\n",
       "      <td>0.000000</td>\n",
       "      <td>0.000000</td>\n",
       "      <td>0.000000</td>\n",
       "      <td>0.000000</td>\n",
       "    </tr>\n",
       "    <tr>\n",
       "      <th>1</th>\n",
       "      <td>AOA_-6_GUST_0</td>\n",
       "      <td>-0.012269</td>\n",
       "      <td>0.036082</td>\n",
       "      <td>-0.179473</td>\n",
       "      <td>-0.299470</td>\n",
       "      <td>-0.436463</td>\n",
       "      <td>-0.145501</td>\n",
       "      <td>0.906231</td>\n",
       "      <td>-0.123692</td>\n",
       "      <td>-0.406960</td>\n",
       "      <td>-0.303109</td>\n",
       "      <td>-0.188334</td>\n",
       "    </tr>\n",
       "    <tr>\n",
       "      <th>2</th>\n",
       "      <td>AOA_-6_GUST_0</td>\n",
       "      <td>-0.010833</td>\n",
       "      <td>0.032010</td>\n",
       "      <td>-0.188335</td>\n",
       "      <td>-0.308106</td>\n",
       "      <td>-0.443359</td>\n",
       "      <td>-0.160617</td>\n",
       "      <td>0.866360</td>\n",
       "      <td>-0.143679</td>\n",
       "      <td>-0.422494</td>\n",
       "      <td>-0.310701</td>\n",
       "      <td>-0.188133</td>\n",
       "    </tr>\n",
       "    <tr>\n",
       "      <th>3</th>\n",
       "      <td>AOA_-6_GUST_0</td>\n",
       "      <td>-0.010547</td>\n",
       "      <td>0.031499</td>\n",
       "      <td>-0.181817</td>\n",
       "      <td>-0.311695</td>\n",
       "      <td>-0.449118</td>\n",
       "      <td>-0.162255</td>\n",
       "      <td>0.856444</td>\n",
       "      <td>-0.145400</td>\n",
       "      <td>-0.427483</td>\n",
       "      <td>-0.317549</td>\n",
       "      <td>-0.181613</td>\n",
       "    </tr>\n",
       "    <tr>\n",
       "      <th>4</th>\n",
       "      <td>AOA_-6_GUST_0</td>\n",
       "      <td>-0.009193</td>\n",
       "      <td>0.031778</td>\n",
       "      <td>-0.181666</td>\n",
       "      <td>-0.326418</td>\n",
       "      <td>-0.445661</td>\n",
       "      <td>-0.162199</td>\n",
       "      <td>0.851710</td>\n",
       "      <td>-0.144777</td>\n",
       "      <td>-0.423042</td>\n",
       "      <td>-0.332532</td>\n",
       "      <td>-0.181047</td>\n",
       "    </tr>\n",
       "    <tr>\n",
       "      <th>...</th>\n",
       "      <td>...</td>\n",
       "      <td>...</td>\n",
       "      <td>...</td>\n",
       "      <td>...</td>\n",
       "      <td>...</td>\n",
       "      <td>...</td>\n",
       "      <td>...</td>\n",
       "      <td>...</td>\n",
       "      <td>...</td>\n",
       "      <td>...</td>\n",
       "      <td>...</td>\n",
       "      <td>...</td>\n",
       "    </tr>\n",
       "    <tr>\n",
       "      <th>55171</th>\n",
       "      <td>AOA_30_GUST_20</td>\n",
       "      <td>1.198921</td>\n",
       "      <td>0.497489</td>\n",
       "      <td>-1.121556</td>\n",
       "      <td>-0.899644</td>\n",
       "      <td>-1.260399</td>\n",
       "      <td>-1.563450</td>\n",
       "      <td>0.573826</td>\n",
       "      <td>1.050604</td>\n",
       "      <td>0.544571</td>\n",
       "      <td>0.141421</td>\n",
       "      <td>-0.203193</td>\n",
       "    </tr>\n",
       "    <tr>\n",
       "      <th>55172</th>\n",
       "      <td>AOA_30_GUST_20</td>\n",
       "      <td>1.219558</td>\n",
       "      <td>0.505009</td>\n",
       "      <td>-1.156340</td>\n",
       "      <td>-0.928029</td>\n",
       "      <td>-1.252723</td>\n",
       "      <td>-1.546736</td>\n",
       "      <td>0.580083</td>\n",
       "      <td>1.055612</td>\n",
       "      <td>0.549741</td>\n",
       "      <td>0.147234</td>\n",
       "      <td>-0.193234</td>\n",
       "    </tr>\n",
       "    <tr>\n",
       "      <th>55173</th>\n",
       "      <td>AOA_30_GUST_20</td>\n",
       "      <td>1.250151</td>\n",
       "      <td>0.513660</td>\n",
       "      <td>-1.199141</td>\n",
       "      <td>-0.954096</td>\n",
       "      <td>-1.252635</td>\n",
       "      <td>-1.540192</td>\n",
       "      <td>0.580450</td>\n",
       "      <td>1.058484</td>\n",
       "      <td>0.555986</td>\n",
       "      <td>0.157939</td>\n",
       "      <td>-0.170282</td>\n",
       "    </tr>\n",
       "    <tr>\n",
       "      <th>55174</th>\n",
       "      <td>AOA_30_GUST_20</td>\n",
       "      <td>1.295781</td>\n",
       "      <td>0.526210</td>\n",
       "      <td>-1.256843</td>\n",
       "      <td>-0.974371</td>\n",
       "      <td>-1.258743</td>\n",
       "      <td>-1.543159</td>\n",
       "      <td>0.579061</td>\n",
       "      <td>1.064949</td>\n",
       "      <td>0.568421</td>\n",
       "      <td>0.177533</td>\n",
       "      <td>-0.132517</td>\n",
       "    </tr>\n",
       "    <tr>\n",
       "      <th>55175</th>\n",
       "      <td>AOA_30_GUST_20</td>\n",
       "      <td>1.349951</td>\n",
       "      <td>0.541754</td>\n",
       "      <td>-1.320539</td>\n",
       "      <td>-0.988518</td>\n",
       "      <td>-1.272628</td>\n",
       "      <td>-1.556014</td>\n",
       "      <td>0.574036</td>\n",
       "      <td>1.073114</td>\n",
       "      <td>0.584629</td>\n",
       "      <td>0.201990</td>\n",
       "      <td>-0.088778</td>\n",
       "    </tr>\n",
       "  </tbody>\n",
       "</table>\n",
       "<p>55176 rows × 12 columns</p>\n",
       "</div>"
      ],
      "text/plain": [
       "                 Case        CL        CD      Cp_1      Cp_2      Cp_3  \\\n",
       "0       AOA_-6_GUST_0  0.000000  0.000000  0.000000  0.000000  0.000000   \n",
       "1       AOA_-6_GUST_0 -0.012269  0.036082 -0.179473 -0.299470 -0.436463   \n",
       "2       AOA_-6_GUST_0 -0.010833  0.032010 -0.188335 -0.308106 -0.443359   \n",
       "3       AOA_-6_GUST_0 -0.010547  0.031499 -0.181817 -0.311695 -0.449118   \n",
       "4       AOA_-6_GUST_0 -0.009193  0.031778 -0.181666 -0.326418 -0.445661   \n",
       "...               ...       ...       ...       ...       ...       ...   \n",
       "55171  AOA_30_GUST_20  1.198921  0.497489 -1.121556 -0.899644 -1.260399   \n",
       "55172  AOA_30_GUST_20  1.219558  0.505009 -1.156340 -0.928029 -1.252723   \n",
       "55173  AOA_30_GUST_20  1.250151  0.513660 -1.199141 -0.954096 -1.252635   \n",
       "55174  AOA_30_GUST_20  1.295781  0.526210 -1.256843 -0.974371 -1.258743   \n",
       "55175  AOA_30_GUST_20  1.349951  0.541754 -1.320539 -0.988518 -1.272628   \n",
       "\n",
       "           Cp_4      Cp_5      Cp_6      Cp_7      Cp_8      Cp_9  \n",
       "0      0.000000  0.000000  0.000000  0.000000  0.000000  0.000000  \n",
       "1     -0.145501  0.906231 -0.123692 -0.406960 -0.303109 -0.188334  \n",
       "2     -0.160617  0.866360 -0.143679 -0.422494 -0.310701 -0.188133  \n",
       "3     -0.162255  0.856444 -0.145400 -0.427483 -0.317549 -0.181613  \n",
       "4     -0.162199  0.851710 -0.144777 -0.423042 -0.332532 -0.181047  \n",
       "...         ...       ...       ...       ...       ...       ...  \n",
       "55171 -1.563450  0.573826  1.050604  0.544571  0.141421 -0.203193  \n",
       "55172 -1.546736  0.580083  1.055612  0.549741  0.147234 -0.193234  \n",
       "55173 -1.540192  0.580450  1.058484  0.555986  0.157939 -0.170282  \n",
       "55174 -1.543159  0.579061  1.064949  0.568421  0.177533 -0.132517  \n",
       "55175 -1.556014  0.574036  1.073114  0.584629  0.201990 -0.088778  \n",
       "\n",
       "[55176 rows x 12 columns]"
      ]
     },
     "execution_count": 26,
     "metadata": {},
     "output_type": "execute_result"
    }
   ],
   "source": [
    "read"
   ]
  },
  {
   "cell_type": "code",
   "execution_count": 27,
   "id": "bc83c070",
   "metadata": {},
   "outputs": [
    {
     "data": {
      "text/plain": [
       "(55176, 12)"
      ]
     },
     "execution_count": 27,
     "metadata": {},
     "output_type": "execute_result"
    }
   ],
   "source": [
    "read.shape"
   ]
  },
  {
   "cell_type": "code",
   "execution_count": 28,
   "id": "e11ab4ef",
   "metadata": {},
   "outputs": [],
   "source": [
    "import torch\n",
    "dataset_path = \"/home/liangaoming/dashuai/gust_test-main/Dataset/Simulations/Sim_no_aug_sec_3_1.pt\"\n",
    "test_dataset = torch.load(dataset_path,weights_only=False)\n",
    "tensorset = test_dataset[\"test_dataset\"]"
   ]
  },
  {
   "cell_type": "code",
   "execution_count": 32,
   "id": "01f544bb",
   "metadata": {},
   "outputs": [],
   "source": [
    "from torch.utils.data import DataLoader\n",
    "test_loader = DataLoader(tensorset, batch_size = 30, shuffle=True)"
   ]
  },
  {
   "cell_type": "code",
   "execution_count": 33,
   "id": "a9cca969",
   "metadata": {},
   "outputs": [
    {
     "name": "stdout",
     "output_type": "stream",
     "text": [
      "torch.Size([20, 250, 1])\n"
     ]
    }
   ],
   "source": [
    "for data,adj,truth in test_loader:\n",
    "   test_tensor = truth\n",
    "   print(truth.shape)\n",
    "   break"
   ]
  },
  {
   "cell_type": "code",
   "execution_count": 34,
   "id": "b1b3663f",
   "metadata": {},
   "outputs": [],
   "source": [
    "import pandas as pd\n",
    "import numpy as np\n",
    "import re\n",
    "\n",
    "# 假设你已经有 read 数据\n",
    "# read = pd.read_csv(...)  # 你已经完成了这一步\n",
    "\n",
    "# --- 提取 AOA 和 GUST ---\n",
    "def parse_case(case_str):\n",
    "    match = re.match(r\"AOA_(-?\\d+)_GUST_(\\d+)\", case_str)\n",
    "    if match:\n",
    "        return int(match.group(1)), int(match.group(2))\n",
    "    else:\n",
    "        raise ValueError(f\"Bad case name: {case_str}\")\n",
    "\n",
    "read['AOA'], read['GUST'] = zip(*read['Case'].map(parse_case))\n",
    "\n",
    "# --- 找到所有唯一的 (AOA, GUST) 对 ---\n",
    "unique_cases = read[['Case', 'AOA', 'GUST']].drop_duplicates()\n",
    "\n"
   ]
  },
  {
   "cell_type": "code",
   "execution_count": 36,
   "id": "803a028e",
   "metadata": {},
   "outputs": [
    {
     "name": "stdout",
     "output_type": "stream",
     "text": [
      "[Batch 0 | Sample 0] ↔ AOA=-6, GUST=4 → MSE=0.001959\n",
      "[Batch 0 | Sample 1] ↔ AOA=28, GUST=2 → MSE=0.000718\n",
      "[Batch 0 | Sample 2] ↔ AOA=6, GUST=0 → MSE=0.000068\n",
      "[Batch 0 | Sample 3] ↔ AOA=12, GUST=20 → MSE=0.000471\n",
      "[Batch 0 | Sample 4] ↔ AOA=-4, GUST=12 → MSE=0.000894\n",
      "[Batch 0 | Sample 5] ↔ AOA=22, GUST=6 → MSE=0.000069\n",
      "[Batch 0 | Sample 6] ↔ AOA=2, GUST=6 → MSE=0.000092\n",
      "[Batch 0 | Sample 7] ↔ AOA=-6, GUST=18 → MSE=0.000265\n",
      "[Batch 0 | Sample 8] ↔ AOA=20, GUST=16 → MSE=0.000171\n",
      "[Batch 0 | Sample 9] ↔ AOA=18, GUST=12 → MSE=0.000972\n",
      "[Batch 0 | Sample 10] ↔ AOA=14, GUST=8 → MSE=0.000263\n",
      "[Batch 0 | Sample 11] ↔ AOA=18, GUST=2 → MSE=0.001212\n",
      "[Batch 0 | Sample 12] ↔ AOA=28, GUST=0 → MSE=0.000096\n",
      "[Batch 0 | Sample 13] ↔ AOA=-2, GUST=10 → MSE=0.006789\n",
      "[Batch 0 | Sample 14] ↔ AOA=30, GUST=8 → MSE=0.000636\n",
      "[Batch 0 | Sample 15] ↔ AOA=4, GUST=12 → MSE=0.000201\n",
      "[Batch 0 | Sample 16] ↔ AOA=24, GUST=16 → MSE=0.002299\n",
      "[Batch 0 | Sample 17] ↔ AOA=4, GUST=8 → MSE=0.000478\n",
      "[Batch 0 | Sample 18] ↔ AOA=0, GUST=14 → MSE=0.000803\n",
      "[Batch 0 | Sample 19] ↔ AOA=-4, GUST=14 → MSE=0.000246\n"
     ]
    }
   ],
   "source": [
    "import torch\n",
    "import numpy as np\n",
    "import torch.nn as nn\n",
    "\n",
    "\n",
    "# 所有 unique cases in read\n",
    "unique_cases = read[['AOA', 'GUST']].drop_duplicates().reset_index(drop=True)\n",
    "# --- 初始化结果张量 ---\n",
    "cl_tensor = test_tensor.numpy()\n",
    "# 储存匹配结果\n",
    "matched_cases = []\n",
    "\n",
    "# 遍历 cl_tensor 中的每一条序列\n",
    "for i in range(cl_tensor.shape[0]):\n",
    "    cl_seq = cl_tensor[i, :, 0] # shape = [250]\n",
    "    \n",
    "    found = False\n",
    "    for _, row in unique_cases.iterrows():\n",
    "        aoa, gust = row['AOA'], row['GUST']\n",
    "        subset = read[(read['AOA'] == aoa) & (read['GUST'] == gust)]\n",
    "        \n",
    "        if len(subset) < 264:\n",
    "            continue  # skip invalid case\n",
    "        \n",
    "        cl_candidate = subset.iloc[14:264]['CL'].values  # shape = [250]\n",
    "        \n",
    "        # 对比是否一致（可容许微小误差）\n",
    "        if np.allclose(cl_seq, cl_candidate, atol=1e-5):\n",
    "            matched_cases.append((aoa, gust))\n",
    "            found = True\n",
    "            break\n",
    "    \n",
    "    if not found:\n",
    "        matched_cases.append(None)\n",
    "        print(f\"❌ Case {i} not matched!\")\n",
    "\n",
    "# 查看结果\n",
    "mse_loss_fn = torch.nn.MSELoss(reduction='mean')\n",
    "\n",
    "for batch_idx, (data, adj, truth) in enumerate(test_loader):\n",
    "    adj = adj[0,:,:]\n",
    "    test_out = model(data, adj)  # 假设这是你的模型 forward\n",
    "    B = truth.size(0)\n",
    "\n",
    "    for i in range(B):\n",
    "        aoa, gust = matched_cases[i]\n",
    "        pred_i = test_out[i]     # [250, 1]\n",
    "        truth_i = truth[i]       # [250, 1]\n",
    "        mse_loss = mse_loss_fn(pred_i, truth_i)\n",
    "\n",
    "        print(f\"[Batch {batch_idx} | Sample {i}] ↔ AOA={aoa}, GUST={gust} → MSE={mse_loss.item():.6f}\")\n",
    "\n",
    "    \n"
   ]
  },
  {
   "cell_type": "code",
   "execution_count": 39,
   "id": "ea4237a0",
   "metadata": {},
   "outputs": [
    {
     "data": {
      "text/plain": [
       "0.0009351"
      ]
     },
     "execution_count": 39,
     "metadata": {},
     "output_type": "execute_result"
    }
   ],
   "source": [
    "# 将 MSE 值输入\n",
    "mse_list = [\n",
    "    0.001959, 0.000718, 0.000068, 0.000471, 0.000894,\n",
    "    0.000069, 0.000092, 0.000265, 0.000171, 0.000972,\n",
    "    0.000263, 0.001212, 0.000096, 0.006789, 0.000636,\n",
    "    0.000201, 0.002299, 0.000478, 0.000803, 0.000246\n",
    "]\n",
    "\n",
    "# 计算平均\n",
    "mean_mse = sum(mse_list) / len(mse_list)\n",
    "mean_mse\n"
   ]
  },
  {
   "cell_type": "code",
   "execution_count": 38,
   "id": "49d2faff",
   "metadata": {},
   "outputs": [
    {
     "data": {
      "image/png": "[encoded data removed]",
      "text/plain": [
       "<Figure size 1200x700 with 2 Axes>"
      ]
     },
     "metadata": {},
     "output_type": "display_data"
    }
   ],
   "source": [
    "import matplotlib.pyplot as plt\n",
    "import seaborn as sns\n",
    "import numpy as np\n",
    "\n",
    "# 准备数据\n",
    "aoa_list = [-6, 28, 6, 12, -4, 22, 2, -6, 20, 18, 14, 18, 28, -2, 30, 4, 24, 4, 0, -4]\n",
    "gust_list = [4, 2, 0, 20, 12, 6, 6, 18, 16, 12, 8, 2, 0, 10, 8, 12, 16, 8, 14, 14]\n",
    "mse_list = [0.001959, 0.000718, 0.000068, 0.000471, 0.000894, 0.000069, 0.000092,\n",
    "            0.000265, 0.000171, 0.000972, 0.000263, 0.001212, 0.000096, 0.006789,\n",
    "            0.000636, 0.000201, 0.002299, 0.000478, 0.000803, 0.000246]\n",
    "\n",
    "# 构建热力图矩阵\n",
    "aoa_unique = sorted(set(aoa_list))\n",
    "gust_unique = sorted(set(gust_list))\n",
    "heatmap = np.full((len(aoa_unique), len(gust_unique)), np.nan)\n",
    "\n",
    "for aoa, gust, mse in zip(aoa_list, gust_list, mse_list):\n",
    "    i = aoa_unique.index(aoa)\n",
    "    j = gust_unique.index(gust)\n",
    "    heatmap[i, j] = mse\n",
    "\n",
    "# 设置画图风格\n",
    "sns.set_theme(style=\"whitegrid\")\n",
    "plt.figure(figsize=(12, 7))\n",
    "\n",
    "# 更美观的热力图\n",
    "ax = sns.heatmap(\n",
    "    heatmap,\n",
    "    annot=True,\n",
    "    fmt=\".3g\",\n",
    "    cmap=\"YlGnBu\",\n",
    "    linewidths=0.5,\n",
    "    linecolor='white',\n",
    "    xticklabels=gust_unique,\n",
    "    yticklabels=aoa_unique,\n",
    "    cbar_kws={'label': 'MSE'}\n",
    ")\n",
    "\n",
    "plt.title(\"Model MSE Heatmap over (AOA, GUST)\", fontsize=16, weight='bold')\n",
    "plt.xlabel(\"GUST\", fontsize=12)\n",
    "plt.ylabel(\"AOA\", fontsize=12)\n",
    "plt.xticks(fontsize=10)\n",
    "plt.yticks(fontsize=10)\n",
    "plt.tight_layout()\n",
    "plt.show()\n"
   ]
  },
  {
   "cell_type": "code",
   "execution_count": null,
   "id": "d15abced",
   "metadata": {},
   "outputs": [],
   "source": []
  }
 ],
 "metadata": {
  "kernelspec": {
   "display_name": "base",
   "language": "python",
   "name": "python3"
  },
  "language_info": {
   "codemirror_mode": {
    "name": "ipython",
    "version": 3
   },
   "file_extension": ".py",
   "mimetype": "text/x-python",
   "name": "python",
   "nbconvert_exporter": "python",
   "pygments_lexer": "ipython3",
   "version": "3.13.2"
  }
 },
 "nbformat": 4,
 "nbformat_minor": 5
}
