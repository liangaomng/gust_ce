{
 "cells": [
  {
   "cell_type": "code",
   "execution_count": 1,
   "metadata": {},
   "outputs": [],
   "source": [
    "import pandas as pd\n",
    "import numpy as np"
   ]
  },
  {
   "cell_type": "markdown",
   "metadata": {},
   "source": [
    "#### This is read the gust for expriments in Dashuai et.al"
   ]
  },
  {
   "cell_type": "code",
   "execution_count": 6,
   "metadata": {},
   "outputs": [],
   "source": [
    "data = pd.read_csv(\"naca0012_AOA_-20_GUST_20_gust_cl_cd_cp.csv\")#时间长度264一个case"
   ]
  },
  {
   "cell_type": "code",
   "execution_count": 9,
   "metadata": {},
   "outputs": [],
   "source": [
    "inputs_usecols=[]\n",
    "for i in range(1,10,1):\n",
    "    #传感器9个\n",
    "    inputs_usecols.append(f'Cp_{i}')\n",
    "    "
   ]
  },
  {
   "cell_type": "code",
   "execution_count": 10,
   "metadata": {},
   "outputs": [
    {
     "data": {
      "text/plain": [
       "['Cp_1', 'Cp_2', 'Cp_3', 'Cp_4', 'Cp_5', 'Cp_6', 'Cp_7', 'Cp_8', 'Cp_9']"
      ]
     },
     "execution_count": 10,
     "metadata": {},
     "output_type": "execute_result"
    }
   ],
   "source": [
    "inputs_usecols"
   ]
  },
  {
   "cell_type": "code",
   "execution_count": 11,
   "metadata": {},
   "outputs": [],
   "source": [
    "pressure_csv_data = pd.read_csv(\"naca0012_AOA_-20_GUST_20_gust_cl_cd_cp.csv\", usecols= inputs_usecols)"
   ]
  },
  {
   "cell_type": "code",
   "execution_count": 12,
   "metadata": {},
   "outputs": [],
   "source": [
    "pressure_data_80000 = pressure_csv_data.to_numpy()\n",
    "\n",
    "# 首先，确保数据的行数可以被121\n",
    "assert pressure_data_80000.shape[0] % 1 == 0\n",
    "\n",
    "# 计算每个分组应该有多少行\n",
    "rows_per_group = pressure_data_80000.shape[0] // 1\n",
    "\n",
    "# 重塑数组到新的形状 (121, 264, 9)\n",
    "pressure_data = pressure_data_80000.reshape(1,264,pressure_data_80000.shape[1])"
   ]
  },
  {
   "cell_type": "code",
   "execution_count": 13,
   "metadata": {},
   "outputs": [
    {
     "name": "stdout",
     "output_type": "stream",
     "text": [
      "New shape: (1, 264, 9)\n"
     ]
    }
   ],
   "source": [
    "print(\"New shape:\", pressure_data.shape)"
   ]
  },
  {
   "cell_type": "code",
   "execution_count": 14,
   "metadata": {},
   "outputs": [
    {
     "data": {
      "text/plain": [
       "[<matplotlib.lines.Line2D at 0x7fccf1ee9af0>]"
      ]
     },
     "execution_count": 14,
     "metadata": {},
     "output_type": "execute_result"
    },
    {
     "data": {
      "image/png": "[encoded data removed]",
      "text/plain": [
       "<Figure size 640x480 with 1 Axes>"
      ]
     },
     "metadata": {},
     "output_type": "display_data"
    }
   ],
   "source": [
    "import matplotlib.pyplot as plt\n",
    "plt.plot(pressure_data[0,:,1])"
   ]
  },
  {
   "cell_type": "markdown",
   "metadata": {},
   "source": [
    "#### 拿到力的数据"
   ]
  },
  {
   "cell_type": "code",
   "execution_count": 15,
   "metadata": {},
   "outputs": [],
   "source": [
    "\n",
    "outputs_usecols=['CL']\n",
    "output_csv_data = pd.read_csv(\"naca0012_AOA_-20_GUST_20_gust_cl_cd_cp.csv\",usecols=outputs_usecols)\n",
    "output_data_80000 = output_csv_data.to_numpy()\n",
    "#every 2500 is a case\n",
    "# 首先，确保数据的行数可以被32整除\n",
    "assert output_data_80000.shape[0] % 1 == 0\n",
    "\n",
    "\n",
    "# 计算每个分组应该有多少行\n",
    "out_per_group = output_data_80000.shape[0] // 1\n",
    "\n",
    "# 重塑数组到新的形状 (121, 264, 1)\n",
    "out_data = output_data_80000.reshape(1, out_per_group, 1)"
   ]
  },
  {
   "cell_type": "code",
   "execution_count": 13,
   "metadata": {},
   "outputs": [
    {
     "data": {
      "text/plain": [
       "(1, 264, 1)"
      ]
     },
     "execution_count": 13,
     "metadata": {},
     "output_type": "execute_result"
    }
   ],
   "source": [
    "out_data.shape"
   ]
  },
  {
   "cell_type": "code",
   "execution_count": 17,
   "metadata": {},
   "outputs": [],
   "source": [
    "corr = pd.read_csv(\"foil_coordinates.csv\",usecols=[\"X\",\"Y\"])\n",
    "aoa_x_y = corr.to_numpy()"
   ]
  },
  {
   "cell_type": "code",
   "execution_count": 18,
   "metadata": {},
   "outputs": [],
   "source": [
    "# 使用 np.repeat 来沿特定轴重复数据\n",
    "coord = aoa_x_y[1:10]"
   ]
  },
  {
   "cell_type": "code",
   "execution_count": 19,
   "metadata": {},
   "outputs": [
    {
     "data": {
      "text/plain": [
       "<matplotlib.collections.PathCollection at 0x7fccefd33580>"
      ]
     },
     "execution_count": 19,
     "metadata": {},
     "output_type": "execute_result"
    },
    {
     "data": {
      "image/png": "[encoded data removed]",
      "text/plain": [
       "<Figure size 640x480 with 1 Axes>"
      ]
     },
     "metadata": {},
     "output_type": "display_data"
    }
   ],
   "source": [
    "plt.scatter(coord[0:9,0],coord[0:9,1])"
   ]
  },
  {
   "cell_type": "code",
   "execution_count": 20,
   "metadata": {},
   "outputs": [],
   "source": [
    "import torch"
   ]
  },
  {
   "cell_type": "code",
   "execution_count": 21,
   "metadata": {},
   "outputs": [],
   "source": [
    "\n",
    "def calculate_distance_matrix(coords):\n",
    "    num_points = coords.shape[0]\n",
    "    distance_matrix = np.zeros((num_points, num_points))\n",
    "\n",
    "    for i in range(num_points):\n",
    "        for j in range(num_points):\n",
    "            distance_matrix[i, j] = np.linalg.norm(coords[i] - coords[j])\n",
    "    return distance_matrix\n",
    "\n",
    "# 计算连接矩阵\n",
    "def calculate_adj_matrix(coords, epsilon=1e-5):\n",
    "    # 计算距离矩阵\n",
    "    distance_matrix = calculate_distance_matrix(coords)\n",
    "\n",
    "    # 创建连接矩阵，基于反距离\n",
    "    adj_matrix = np.zeros_like(distance_matrix)\n",
    "    for i in range(distance_matrix.shape[0]):\n",
    "        for j in range(distance_matrix.shape[1]):\n",
    "            if i != j and distance_matrix[i, j] != 0:\n",
    "                adj_matrix[i, j] = 1 / (distance_matrix[i, j] + epsilon)\n",
    "\n",
    "    # 行归一化连接矩阵\n",
    "    row_sums = adj_matrix.sum(axis=1, keepdims=True)\n",
    "    adj_matrix_normalized = adj_matrix / (row_sums + epsilon)\n",
    "    \n",
    "    return adj_matrix_normalized\n",
    "\n"
   ]
  },
  {
   "cell_type": "code",
   "execution_count": 22,
   "metadata": {},
   "outputs": [],
   "source": [
    "adj = calculate_adj_matrix(coord)"
   ]
  },
  {
   "cell_type": "code",
   "execution_count": 23,
   "metadata": {},
   "outputs": [],
   "source": [
    "adj_matrix_batch = np.tile(adj, (1, 1, 1))"
   ]
  },
  {
   "cell_type": "code",
   "execution_count": 24,
   "metadata": {},
   "outputs": [
    {
     "data": {
      "text/plain": [
       "<matplotlib.image.AxesImage at 0x7fcc410fa970>"
      ]
     },
     "execution_count": 24,
     "metadata": {},
     "output_type": "execute_result"
    },
    {
     "data": {
      "image/png": "[encoded data removed]",
      "text/plain": [
       "<Figure size 640x480 with 1 Axes>"
      ]
     },
     "metadata": {},
     "output_type": "display_data"
    }
   ],
   "source": [
    "import matplotlib.pyplot as plt\n",
    "plt.imshow(adj_matrix_batch[0,:,:])"
   ]
  },
  {
   "cell_type": "code",
   "execution_count": 25,
   "metadata": {},
   "outputs": [
    {
     "data": {
      "text/plain": [
       "(1, 264, 9)"
      ]
     },
     "execution_count": 25,
     "metadata": {},
     "output_type": "execute_result"
    }
   ],
   "source": [
    "pressure_data.shape"
   ]
  },
  {
   "cell_type": "code",
   "execution_count": 26,
   "metadata": {},
   "outputs": [],
   "source": [
    "from torch.utils.data import DataLoader, TensorDataset, random_split\n",
    "import torch\n",
    "# 创建一个TensorDataset\n",
    "# 将NumPy数组转换为PyTorch张量 250长度\n",
    "pressure_data = torch.tensor(pressure_data[:,14:], dtype=torch.float32)\n",
    "pressure_coords = torch.tensor(adj_matrix_batch, dtype=torch.float32)\n",
    "force_output = torch.tensor(out_data[:,14:], dtype=torch.float32)\n",
    "\n",
    "dataset = TensorDataset(pressure_data, pressure_coords, force_output)\n",
    "\n"
   ]
  },
  {
   "cell_type": "code",
   "execution_count": 27,
   "metadata": {},
   "outputs": [
    {
     "name": "stdout",
     "output_type": "stream",
     "text": [
      "Training set size: 1\n"
     ]
    }
   ],
   "source": [
    "#检查每个部分的数据大小\n",
    "print(\"Training set size:\", len(dataset))\n"
   ]
  },
  {
   "cell_type": "code",
   "execution_count": 28,
   "metadata": {},
   "outputs": [],
   "source": [
    "# 保存train_dataset\n",
    "dict = {\n",
    "   \"test_dataset\":dataset,\n",
    "}\n",
    "# 保存字典到.pt文件\n",
    "torch.save(dict, 'simulations_extra-20.pt')"
   ]
  }
 ],
 "metadata": {
  "kernelspec": {
   "display_name": "base",
   "language": "python",
   "name": "python3"
  },
  "language_info": {
   "codemirror_mode": {
    "name": "ipython",
    "version": 3
   },
   "file_extension": ".py",
   "mimetype": "text/x-python",
   "name": "python",
   "nbconvert_exporter": "python",
   "pygments_lexer": "ipython3",
   "version": "3.8.10"
  }
 },
 "nbformat": 4,
 "nbformat_minor": 2
}
